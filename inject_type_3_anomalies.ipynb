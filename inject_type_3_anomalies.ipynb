{
 "cells": [
  {
   "cell_type": "code",
   "execution_count": 1,
   "metadata": {
    "_cell_guid": "b1076dfc-b9ad-4769-8c92-a6c4dae69d19",
    "_uuid": "8f2839f25d086af736a60e9eeb907d3b93b6e0e5"
   },
   "outputs": [],
   "source": [
    "import numpy as np # linear algebra\n",
    "import pandas as pd # data processing, CSV file I/O (e.g. pd.read_csv)\n",
    "import os"
   ]
  },
  {
   "cell_type": "code",
   "execution_count": 2,
   "metadata": {},
   "outputs": [],
   "source": [
    "import random\n",
    "from types import SimpleNamespace\n",
    "import warnings\n",
    "warnings.filterwarnings(\"ignore\", category=RuntimeWarning)\n",
    "import matplotlib.pyplot as plt"
   ]
  },
  {
   "cell_type": "code",
   "execution_count": 3,
   "metadata": {},
   "outputs": [],
   "source": [
    "data_path=\"LEAD_DATASET/train.csv\"\n",
    "\n",
    "data_csv=pd.read_csv(data_path,low_memory=False)"
   ]
  },
  {
   "cell_type": "code",
   "execution_count": 4,
   "metadata": {},
   "outputs": [
    {
     "data": {
      "text/html": [
       "<div>\n",
       "<style scoped>\n",
       "    .dataframe tbody tr th:only-of-type {\n",
       "        vertical-align: middle;\n",
       "    }\n",
       "\n",
       "    .dataframe tbody tr th {\n",
       "        vertical-align: top;\n",
       "    }\n",
       "\n",
       "    .dataframe thead th {\n",
       "        text-align: right;\n",
       "    }\n",
       "</style>\n",
       "<table border=\"1\" class=\"dataframe\">\n",
       "  <thead>\n",
       "    <tr style=\"text-align: right;\">\n",
       "      <th></th>\n",
       "      <th>building_id</th>\n",
       "      <th>timestamp</th>\n",
       "      <th>meter_reading</th>\n",
       "      <th>anomaly</th>\n",
       "    </tr>\n",
       "  </thead>\n",
       "  <tbody>\n",
       "    <tr>\n",
       "      <th>0</th>\n",
       "      <td>1</td>\n",
       "      <td>2016-01-01 00:00:00</td>\n",
       "      <td>NaN</td>\n",
       "      <td>0</td>\n",
       "    </tr>\n",
       "    <tr>\n",
       "      <th>1</th>\n",
       "      <td>32</td>\n",
       "      <td>2016-01-01 00:00:00</td>\n",
       "      <td>NaN</td>\n",
       "      <td>0</td>\n",
       "    </tr>\n",
       "    <tr>\n",
       "      <th>2</th>\n",
       "      <td>41</td>\n",
       "      <td>2016-01-01 00:00:00</td>\n",
       "      <td>NaN</td>\n",
       "      <td>0</td>\n",
       "    </tr>\n",
       "    <tr>\n",
       "      <th>3</th>\n",
       "      <td>55</td>\n",
       "      <td>2016-01-01 00:00:00</td>\n",
       "      <td>NaN</td>\n",
       "      <td>0</td>\n",
       "    </tr>\n",
       "    <tr>\n",
       "      <th>4</th>\n",
       "      <td>69</td>\n",
       "      <td>2016-01-01 00:00:00</td>\n",
       "      <td>NaN</td>\n",
       "      <td>0</td>\n",
       "    </tr>\n",
       "  </tbody>\n",
       "</table>\n",
       "</div>"
      ],
      "text/plain": [
       "   building_id            timestamp  meter_reading  anomaly\n",
       "0            1  2016-01-01 00:00:00            NaN        0\n",
       "1           32  2016-01-01 00:00:00            NaN        0\n",
       "2           41  2016-01-01 00:00:00            NaN        0\n",
       "3           55  2016-01-01 00:00:00            NaN        0\n",
       "4           69  2016-01-01 00:00:00            NaN        0"
      ]
     },
     "execution_count": 4,
     "metadata": {},
     "output_type": "execute_result"
    }
   ],
   "source": [
    "data_csv.head()"
   ]
  },
  {
   "cell_type": "code",
   "execution_count": 5,
   "metadata": {},
   "outputs": [
    {
     "data": {
      "text/html": [
       "<div>\n",
       "<style scoped>\n",
       "    .dataframe tbody tr th:only-of-type {\n",
       "        vertical-align: middle;\n",
       "    }\n",
       "\n",
       "    .dataframe tbody tr th {\n",
       "        vertical-align: top;\n",
       "    }\n",
       "\n",
       "    .dataframe thead th {\n",
       "        text-align: right;\n",
       "    }\n",
       "</style>\n",
       "<table border=\"1\" class=\"dataframe\">\n",
       "  <thead>\n",
       "    <tr style=\"text-align: right;\">\n",
       "      <th></th>\n",
       "      <th>building_id</th>\n",
       "      <th>timestamp</th>\n",
       "      <th>meter_reading</th>\n",
       "      <th>anomaly</th>\n",
       "    </tr>\n",
       "  </thead>\n",
       "  <tbody>\n",
       "    <tr>\n",
       "      <th>1749489</th>\n",
       "      <td>1316</td>\n",
       "      <td>2016-12-31 23:00:00</td>\n",
       "      <td>38.844</td>\n",
       "      <td>0</td>\n",
       "    </tr>\n",
       "    <tr>\n",
       "      <th>1749490</th>\n",
       "      <td>1318</td>\n",
       "      <td>2016-12-31 23:00:00</td>\n",
       "      <td>202.893</td>\n",
       "      <td>0</td>\n",
       "    </tr>\n",
       "    <tr>\n",
       "      <th>1749491</th>\n",
       "      <td>1319</td>\n",
       "      <td>2016-12-31 23:00:00</td>\n",
       "      <td>NaN</td>\n",
       "      <td>0</td>\n",
       "    </tr>\n",
       "    <tr>\n",
       "      <th>1749492</th>\n",
       "      <td>1323</td>\n",
       "      <td>2016-12-31 23:00:00</td>\n",
       "      <td>172.000</td>\n",
       "      <td>0</td>\n",
       "    </tr>\n",
       "    <tr>\n",
       "      <th>1749493</th>\n",
       "      <td>1353</td>\n",
       "      <td>2016-12-31 23:00:00</td>\n",
       "      <td>2.400</td>\n",
       "      <td>0</td>\n",
       "    </tr>\n",
       "  </tbody>\n",
       "</table>\n",
       "</div>"
      ],
      "text/plain": [
       "         building_id            timestamp  meter_reading  anomaly\n",
       "1749489         1316  2016-12-31 23:00:00         38.844        0\n",
       "1749490         1318  2016-12-31 23:00:00        202.893        0\n",
       "1749491         1319  2016-12-31 23:00:00            NaN        0\n",
       "1749492         1323  2016-12-31 23:00:00        172.000        0\n",
       "1749493         1353  2016-12-31 23:00:00          2.400        0"
      ]
     },
     "execution_count": 5,
     "metadata": {},
     "output_type": "execute_result"
    }
   ],
   "source": [
    "data_csv.tail()"
   ]
  },
  {
   "cell_type": "code",
   "execution_count": 6,
   "metadata": {},
   "outputs": [],
   "source": [
    "b_id=1304"
   ]
  },
  {
   "cell_type": "code",
   "execution_count": 7,
   "metadata": {},
   "outputs": [],
   "source": [
    "sample_df=data_csv[data_csv['building_id'] == b_id].copy()"
   ]
  },
  {
   "cell_type": "code",
   "execution_count": 8,
   "metadata": {},
   "outputs": [],
   "source": [
    "sample_df.reset_index(drop=True,inplace=True)"
   ]
  },
  {
   "cell_type": "code",
   "execution_count": 9,
   "metadata": {},
   "outputs": [
    {
     "data": {
      "text/html": [
       "<div>\n",
       "<style scoped>\n",
       "    .dataframe tbody tr th:only-of-type {\n",
       "        vertical-align: middle;\n",
       "    }\n",
       "\n",
       "    .dataframe tbody tr th {\n",
       "        vertical-align: top;\n",
       "    }\n",
       "\n",
       "    .dataframe thead th {\n",
       "        text-align: right;\n",
       "    }\n",
       "</style>\n",
       "<table border=\"1\" class=\"dataframe\">\n",
       "  <thead>\n",
       "    <tr style=\"text-align: right;\">\n",
       "      <th></th>\n",
       "      <th>building_id</th>\n",
       "      <th>timestamp</th>\n",
       "      <th>meter_reading</th>\n",
       "      <th>anomaly</th>\n",
       "    </tr>\n",
       "  </thead>\n",
       "  <tbody>\n",
       "    <tr>\n",
       "      <th>0</th>\n",
       "      <td>1304</td>\n",
       "      <td>2016-01-01 00:00:00</td>\n",
       "      <td>269.984</td>\n",
       "      <td>0</td>\n",
       "    </tr>\n",
       "    <tr>\n",
       "      <th>1</th>\n",
       "      <td>1304</td>\n",
       "      <td>2016-01-01 01:00:00</td>\n",
       "      <td>270.834</td>\n",
       "      <td>0</td>\n",
       "    </tr>\n",
       "    <tr>\n",
       "      <th>2</th>\n",
       "      <td>1304</td>\n",
       "      <td>2016-01-01 02:00:00</td>\n",
       "      <td>282.987</td>\n",
       "      <td>0</td>\n",
       "    </tr>\n",
       "    <tr>\n",
       "      <th>3</th>\n",
       "      <td>1304</td>\n",
       "      <td>2016-01-01 03:00:00</td>\n",
       "      <td>287.950</td>\n",
       "      <td>0</td>\n",
       "    </tr>\n",
       "    <tr>\n",
       "      <th>4</th>\n",
       "      <td>1304</td>\n",
       "      <td>2016-01-01 04:00:00</td>\n",
       "      <td>305.913</td>\n",
       "      <td>0</td>\n",
       "    </tr>\n",
       "    <tr>\n",
       "      <th>...</th>\n",
       "      <td>...</td>\n",
       "      <td>...</td>\n",
       "      <td>...</td>\n",
       "      <td>...</td>\n",
       "    </tr>\n",
       "    <tr>\n",
       "      <th>8779</th>\n",
       "      <td>1304</td>\n",
       "      <td>2016-12-31 19:00:00</td>\n",
       "      <td>319.548</td>\n",
       "      <td>0</td>\n",
       "    </tr>\n",
       "    <tr>\n",
       "      <th>8780</th>\n",
       "      <td>1304</td>\n",
       "      <td>2016-12-31 20:00:00</td>\n",
       "      <td>310.931</td>\n",
       "      <td>0</td>\n",
       "    </tr>\n",
       "    <tr>\n",
       "      <th>8781</th>\n",
       "      <td>1304</td>\n",
       "      <td>2016-12-31 21:00:00</td>\n",
       "      <td>293.985</td>\n",
       "      <td>0</td>\n",
       "    </tr>\n",
       "    <tr>\n",
       "      <th>8782</th>\n",
       "      <td>1304</td>\n",
       "      <td>2016-12-31 22:00:00</td>\n",
       "      <td>331.945</td>\n",
       "      <td>0</td>\n",
       "    </tr>\n",
       "    <tr>\n",
       "      <th>8783</th>\n",
       "      <td>1304</td>\n",
       "      <td>2016-12-31 23:00:00</td>\n",
       "      <td>346.677</td>\n",
       "      <td>0</td>\n",
       "    </tr>\n",
       "  </tbody>\n",
       "</table>\n",
       "<p>8784 rows × 4 columns</p>\n",
       "</div>"
      ],
      "text/plain": [
       "      building_id            timestamp  meter_reading  anomaly\n",
       "0            1304  2016-01-01 00:00:00        269.984        0\n",
       "1            1304  2016-01-01 01:00:00        270.834        0\n",
       "2            1304  2016-01-01 02:00:00        282.987        0\n",
       "3            1304  2016-01-01 03:00:00        287.950        0\n",
       "4            1304  2016-01-01 04:00:00        305.913        0\n",
       "...           ...                  ...            ...      ...\n",
       "8779         1304  2016-12-31 19:00:00        319.548        0\n",
       "8780         1304  2016-12-31 20:00:00        310.931        0\n",
       "8781         1304  2016-12-31 21:00:00        293.985        0\n",
       "8782         1304  2016-12-31 22:00:00        331.945        0\n",
       "8783         1304  2016-12-31 23:00:00        346.677        0\n",
       "\n",
       "[8784 rows x 4 columns]"
      ]
     },
     "execution_count": 9,
     "metadata": {},
     "output_type": "execute_result"
    }
   ],
   "source": [
    "sample_df"
   ]
  },
  {
   "cell_type": "markdown",
   "metadata": {},
   "source": [
    "# Paper Implementation"
   ]
  },
  {
   "cell_type": "code",
   "execution_count": 37,
   "metadata": {},
   "outputs": [],
   "source": [
    "def _generate_anomaly_indices_and_lengths(rng, series_len, count, length_params=None, existing_indices=None):\n",
    "    if count == 0:\n",
    "        return np.array([], dtype=int), np.array([], dtype=int)\n",
    "\n",
    "    if existing_indices is None:\n",
    "        existing_indices = set()\n",
    "\n",
    "    lengths = []\n",
    "    if length_params:\n",
    "        # if length_params.get('distribution') == 'uniform':\n",
    "        #     min_len = length_params['min']\n",
    "        #     max_len = length_params['max']\n",
    "        #     if min_len > max_len:\n",
    "        #          warnings.warn(f\"min_len ({min_len}) > max_len ({max_len}). Setting max_len = min_len.\")\n",
    "        #          max_len = min_len\n",
    "        #     if min_len <= 0:\n",
    "        #          warnings.warn(f\"min_len ({min_len}) is <= 0. Setting min_len = 1.\")\n",
    "        #          min_len = 1\n",
    "        #          if max_len < 1: max_len = 1 # Ensure max_len is also at least 1\n",
    "        #     lengths = rng.integers(min_len, max_len + 1, size=count)\n",
    "        # else:\n",
    "        #     warnings.warn(f\"Unsupported length distribution {length_params.get('distribution')}. Assuming length 1.\")\n",
    "        #     lengths = np.ones(count, dtype=int)\n",
    "\n",
    "        min_samples=int(series_len*length_params['min']/100)\n",
    "        max_samples=int(series_len*length_params['max']/100)\n",
    "        total_samples=np.random.choice(range(min_samples,max_samples))\n",
    "        print(total_samples)\n",
    "\n",
    "        seq_min=2\n",
    "        seq_max=5\n",
    "        all_seq_lengths=[]\n",
    "        while(total_samples>0):\n",
    "            choice=np.random.choice(range(seq_min,seq_max+1))\n",
    "            all_seq_lengths.append(choice)\n",
    "            total_samples-=choice\n",
    "        count=len(all_seq_lengths)\n",
    "        \n",
    "    else:\n",
    "        lengths = np.ones(count, dtype=int)\n",
    "        all_seq_lengths = lengths \n",
    "\n",
    "    indices = []\n",
    "    max_attempts = count * 10 # Try a reasonable number of times to find non-overlapping spots\n",
    "    attempts = 0\n",
    "\n",
    "    possible_start_indices = np.arange(series_len) # All possible indices initially\n",
    "    #Change it to days instead use random indices - day of the year [ don't use initial zero values]\n",
    "    \n",
    "    while len(indices) < count and attempts < max_attempts:\n",
    "        attempts += 1\n",
    "        potential_length = all_seq_lengths[len(indices)] # Length for the current anomaly we try to place\n",
    "        max_valid_start = series_len - potential_length\n",
    "\n",
    "        if max_valid_start < 0: \n",
    "             warnings.warn(f\"Anomaly length ({potential_length}) > series length ({series_len}). Cannot place.\")\n",
    "             continue \n",
    "\n",
    "        valid_start_indices = possible_start_indices[possible_start_indices <= max_valid_start]\n",
    "\n",
    "        if len(valid_start_indices) == 0:\n",
    "             break \n",
    "\n",
    "        potential_start = rng.choice(valid_start_indices)\n",
    "        potential_end = potential_start + potential_length\n",
    "\n",
    "        is_overlapping = False\n",
    "        for idx in range(potential_start, potential_end):\n",
    "            if idx in existing_indices:\n",
    "                is_overlapping = True\n",
    "                break\n",
    "\n",
    "        if not is_overlapping:\n",
    "            indices.append(potential_start)\n",
    "            for idx in range(potential_start, potential_end):\n",
    "                 existing_indices.add(idx)\n",
    "\n",
    "    if len(indices) < count:\n",
    "        warnings.warn(f\"Could only place {len(indices)} out of {count} requested non-overlapping anomalies.\")\n",
    "        all_seq_lengths = all_seq_lengths[:len(indices)]\n",
    "\n",
    "    return np.array(indices, dtype=int), np.array(all_seq_lengths, dtype=int)\n"
   ]
  },
  {
   "cell_type": "code",
   "execution_count": 38,
   "metadata": {},
   "outputs": [],
   "source": [
    "def _apply_labels(labels, indices, lengths, label_value):\n",
    "    \"\"\"Applies labels to the specified ranges.\"\"\"\n",
    "    for i, start_idx in enumerate(indices):\n",
    "        end_idx = start_idx + lengths[i]\n",
    "        actual_end = min(end_idx, len(labels))\n",
    "        labels[start_idx:actual_end] = label_value\n",
    "    return labels"
   ]
  },
  {
   "cell_type": "code",
   "execution_count": 39,
   "metadata": {},
   "outputs": [],
   "source": [
    "def _generate_power_anomaly_type3(p_current, labels_current, p_original, count, label, seed, anomaly_params, rng, existing_indices):\n",
    "    \"\"\"Applies Power Anomaly Type 3 based on Formulas (7) and (8).\"\"\"\n",
    "    if count == 0:\n",
    "        return p_current, labels_current, existing_indices, np.array([]), np.array([])\n",
    "\n",
    "    target = p_current.copy()\n",
    "    labels_next = labels_current.copy()\n",
    "    local_rng = np.random.default_rng(seed)\n",
    "\n",
    "    # Length is always 1 for Type 3 power anomaly spike\n",
    "    indices, lengths = _generate_anomaly_indices_and_lengths(\n",
    "        local_rng, len(target), count, length_params=None, existing_indices=existing_indices\n",
    "    )\n",
    "\n",
    "    if len(indices) == 0:\n",
    "        return p_current, labels_current, existing_indices, np.array([]), np.array([])\n",
    "\n",
    "    is_extreme = anomaly_params.get('is_extreme', False)\n",
    "    k = anomaly_params.get('k', 0)  # Needed for extreme case\n",
    "    range_r = anomaly_params.get('range_r', (0.61, 1.62))  # Default from paper Table 3\n",
    "\n",
    "    for idx, length in zip(indices, lengths):\n",
    "        if length > 1:\n",
    "            raise Exception(\"Type 3 power anomalies can't be longer than 1.\")\n",
    "        else:\n",
    "            if is_extreme:\n",
    "                energy_consumed = target[:idx].sum()\n",
    "                target[idx] = -1 * energy_consumed - k\n",
    "            else:\n",
    "                r = np.random.uniform(*range_r)\n",
    "                target[idx] = -1 * r * target[idx - 1]\n",
    "\n",
    "    labels_next = _apply_labels(labels_next, indices, lengths, label)\n",
    "\n",
    "    return target, labels_next, existing_indices, indices, lengths"
   ]
  },
  {
   "cell_type": "code",
   "execution_count": 40,
   "metadata": {},
   "outputs": [],
   "source": [
    "def create_power_anomalies_from_paper(p, e, hparams,apply_rules=[1,2,3,4]):\n",
    "    \"\"\"\n",
    "    Generates power anomalies based on formulas in Turowski et al. (2022).\n",
    "\n",
    "    Args:\n",
    "        p (np.ndarray): The input power time series.\n",
    "        e (np.ndarray): The corresponding input energy time series (needed for k).\n",
    "        hparams (SimpleNamespace or similar): Object containing hyperparameters.\n",
    "                                             See original code/paper for attributes.\n",
    "\n",
    "    Returns:\n",
    "        tuple: (p_original, labels, p_anomalous)\n",
    "    \"\"\"\n",
    "    p_original = np.asarray(p).copy()\n",
    "    p_modified = p_original.copy()\n",
    "    labels = np.zeros_like(p_modified, dtype=int)\n",
    "    n = len(p_modified)\n",
    "    master_rng = np.random.default_rng(hparams.seed)\n",
    "    existing_indices = set() # Track indices covered by any anomaly\n",
    "\n",
    "\n",
    "\n",
    "\n",
    "\n",
    "    # Type 2\n",
    "    if 3 in apply_rules:\n",
    "        p_modified, labels, existing_indices, indices, lengths = _generate_power_anomaly_type3(\n",
    "    p_modified, labels, p_original, count=hparams.num_anomalies, label=3, seed=hparams.seed + 2,\n",
    "    anomaly_params={'softstart': getattr(hparams, 'type2_softstart', False)},\n",
    "    rng=master_rng, existing_indices=existing_indices\n",
    ")\n",
    "        print(f\"Applied Power Type 3. Anomalous indices count: {len(existing_indices)}\")\n",
    "\n",
    "    return p_original, labels, p_modified,indices,lengths\n"
   ]
  },
  {
   "cell_type": "markdown",
   "metadata": {},
   "source": [
    "## Data Imputer"
   ]
  },
  {
   "cell_type": "code",
   "execution_count": 41,
   "metadata": {},
   "outputs": [],
   "source": [
    "from sklearn.impute import SimpleImputer"
   ]
  },
  {
   "cell_type": "code",
   "execution_count": 42,
   "metadata": {},
   "outputs": [],
   "source": [
    "def data_preprocess(sample_df):\n",
    "\n",
    "    sample_df.loc[sample_df.anomaly==1,'meter_reading']=np.nan\n",
    "    original_anomalies=np.zeros_like(sample_df['anomaly'].values)\n",
    "    sample_df['meter_reading'] = sample_df['meter_reading'].ffill()\n",
    "    imp_vals=sample_df['meter_reading'].values\n",
    "    return imp_vals,original_anomalies"
   ]
  },
  {
   "cell_type": "code",
   "execution_count": 43,
   "metadata": {},
   "outputs": [],
   "source": [
    "def do_for_building(df,bid):\n",
    "    sample_df=df[df['building_id']==bid].copy()\n",
    "    imp_vals,labels_p=data_preprocess(sample_df)\n",
    "    power_hparams = SimpleNamespace(\n",
    "    seed=42,\n",
    "    type2=100, min_perc=2, max_perc=5, type2_softstart=True,\n",
    "    )\n",
    "    # Get total number of samples\n",
    "    total_samples=len(imp_vals)\n",
    "    # Find min and max number of anomalies\n",
    "    min_anomalies = int(total_samples * power_hparams.min_perc / 100)\n",
    "    max_anomalies = int(total_samples * power_hparams.max_perc / 100)\n",
    "    # Generate random number of anomalies\n",
    "    rng = np.random.default_rng()\n",
    "    num_anomalies = rng.integers(min_anomalies, max_anomalies + 1)\n",
    "    power_hparams.num_anomalies = num_anomalies\n",
    "    original_p, labels_p, anomalous_p,indices,lengths= create_power_anomalies_from_paper(imp_vals, None, power_hparams,apply_rules=[3])\n",
    "    all_ticks = sample_df['timestamp'].values\n",
    "    mod_df=pd.DataFrame()\n",
    "    mod_df['timestamp']=all_ticks\n",
    "    mod_df['original']=original_p\n",
    "    mod_df['modified']=anomalous_p\n",
    "    mod_df['labels']=labels_p\n",
    "    orig_mean,mod_mean,nums,min_len,max_len=mod_df['original'].mean(),mod_df['modified'].mean(),len(indices),min(lengths),max(lengths)\n",
    "    all_anoms=mod_df[mod_df['labels']==3].sum().values[-1]\n",
    "    return orig_mean,mod_mean,nums,min_len,max_len,all_anoms,mod_df\n",
    "        "
   ]
  },
  {
   "cell_type": "code",
   "execution_count": 46,
   "metadata": {
    "scrolled": true
   },
   "outputs": [
    {
     "name": "stdout",
     "output_type": "stream",
     "text": [
      "Applied Power Type 3. Anomalous indices count: 343\n",
      "Applied Power Type 3. Anomalous indices count: 362\n",
      "Applied Power Type 3. Anomalous indices count: 408\n",
      "Applied Power Type 3. Anomalous indices count: 296\n",
      "Applied Power Type 3. Anomalous indices count: 433\n",
      "Applied Power Type 3. Anomalous indices count: 232\n",
      "Applied Power Type 3. Anomalous indices count: 403\n",
      "Applied Power Type 3. Anomalous indices count: 410\n",
      "Applied Power Type 3. Anomalous indices count: 265\n",
      "Applied Power Type 3. Anomalous indices count: 196\n",
      "Applied Power Type 3. Anomalous indices count: 291\n",
      "Applied Power Type 3. Anomalous indices count: 188\n",
      "Applied Power Type 3. Anomalous indices count: 194\n",
      "Applied Power Type 3. Anomalous indices count: 436\n",
      "Applied Power Type 3. Anomalous indices count: 404\n",
      "Applied Power Type 3. Anomalous indices count: 200\n",
      "Applied Power Type 3. Anomalous indices count: 203\n",
      "Applied Power Type 3. Anomalous indices count: 243\n",
      "Applied Power Type 3. Anomalous indices count: 177\n",
      "Applied Power Type 3. Anomalous indices count: 404\n",
      "Applied Power Type 3. Anomalous indices count: 252\n",
      "Applied Power Type 3. Anomalous indices count: 226\n",
      "Applied Power Type 3. Anomalous indices count: 177\n",
      "Applied Power Type 3. Anomalous indices count: 305\n",
      "Applied Power Type 3. Anomalous indices count: 305\n",
      "Applied Power Type 3. Anomalous indices count: 414\n",
      "Applied Power Type 3. Anomalous indices count: 281\n",
      "Applied Power Type 3. Anomalous indices count: 336\n",
      "Applied Power Type 3. Anomalous indices count: 207\n",
      "Applied Power Type 3. Anomalous indices count: 242\n",
      "Applied Power Type 3. Anomalous indices count: 294\n",
      "Applied Power Type 3. Anomalous indices count: 297\n",
      "Applied Power Type 3. Anomalous indices count: 432\n",
      "Applied Power Type 3. Anomalous indices count: 190\n",
      "Applied Power Type 3. Anomalous indices count: 287\n",
      "Applied Power Type 3. Anomalous indices count: 194\n",
      "Applied Power Type 3. Anomalous indices count: 387\n",
      "Applied Power Type 3. Anomalous indices count: 295\n",
      "Applied Power Type 3. Anomalous indices count: 358\n",
      "Applied Power Type 3. Anomalous indices count: 263\n",
      "Applied Power Type 3. Anomalous indices count: 379\n",
      "Applied Power Type 3. Anomalous indices count: 314\n",
      "Applied Power Type 3. Anomalous indices count: 277\n",
      "Applied Power Type 3. Anomalous indices count: 188\n",
      "Applied Power Type 3. Anomalous indices count: 308\n",
      "Applied Power Type 3. Anomalous indices count: 439\n",
      "Applied Power Type 3. Anomalous indices count: 199\n",
      "Applied Power Type 3. Anomalous indices count: 204\n",
      "Applied Power Type 3. Anomalous indices count: 337\n",
      "Applied Power Type 3. Anomalous indices count: 405\n",
      "Applied Power Type 3. Anomalous indices count: 390\n",
      "Applied Power Type 3. Anomalous indices count: 293\n",
      "Applied Power Type 3. Anomalous indices count: 370\n",
      "Applied Power Type 3. Anomalous indices count: 298\n",
      "Applied Power Type 3. Anomalous indices count: 315\n",
      "Applied Power Type 3. Anomalous indices count: 214\n",
      "Applied Power Type 3. Anomalous indices count: 257\n",
      "Applied Power Type 3. Anomalous indices count: 395\n",
      "Applied Power Type 3. Anomalous indices count: 367\n",
      "Applied Power Type 3. Anomalous indices count: 364\n",
      "Applied Power Type 3. Anomalous indices count: 235\n",
      "Applied Power Type 3. Anomalous indices count: 357\n",
      "Applied Power Type 3. Anomalous indices count: 236\n",
      "Applied Power Type 3. Anomalous indices count: 187\n",
      "Applied Power Type 3. Anomalous indices count: 354\n",
      "Applied Power Type 3. Anomalous indices count: 301\n",
      "Applied Power Type 3. Anomalous indices count: 196\n",
      "Applied Power Type 3. Anomalous indices count: 424\n",
      "Applied Power Type 3. Anomalous indices count: 334\n",
      "Applied Power Type 3. Anomalous indices count: 253\n",
      "Applied Power Type 3. Anomalous indices count: 366\n",
      "Applied Power Type 3. Anomalous indices count: 383\n",
      "Applied Power Type 3. Anomalous indices count: 280\n",
      "Applied Power Type 3. Anomalous indices count: 328\n",
      "Applied Power Type 3. Anomalous indices count: 278\n",
      "Applied Power Type 3. Anomalous indices count: 185\n",
      "Applied Power Type 3. Anomalous indices count: 356\n",
      "Applied Power Type 3. Anomalous indices count: 219\n",
      "Applied Power Type 3. Anomalous indices count: 360\n",
      "Applied Power Type 3. Anomalous indices count: 294\n",
      "Applied Power Type 3. Anomalous indices count: 321\n",
      "Applied Power Type 3. Anomalous indices count: 231\n",
      "Applied Power Type 3. Anomalous indices count: 198\n",
      "Applied Power Type 3. Anomalous indices count: 297\n",
      "Applied Power Type 3. Anomalous indices count: 180\n",
      "Applied Power Type 3. Anomalous indices count: 198\n",
      "Applied Power Type 3. Anomalous indices count: 225\n",
      "Applied Power Type 3. Anomalous indices count: 213\n",
      "Applied Power Type 3. Anomalous indices count: 435\n",
      "Applied Power Type 3. Anomalous indices count: 194\n",
      "Applied Power Type 3. Anomalous indices count: 260\n",
      "Applied Power Type 3. Anomalous indices count: 194\n",
      "Applied Power Type 3. Anomalous indices count: 375\n",
      "Applied Power Type 3. Anomalous indices count: 320\n",
      "Applied Power Type 3. Anomalous indices count: 335\n",
      "Applied Power Type 3. Anomalous indices count: 177\n",
      "Applied Power Type 3. Anomalous indices count: 422\n",
      "Applied Power Type 3. Anomalous indices count: 232\n",
      "Applied Power Type 3. Anomalous indices count: 262\n",
      "Applied Power Type 3. Anomalous indices count: 277\n",
      "Applied Power Type 3. Anomalous indices count: 222\n",
      "Applied Power Type 3. Anomalous indices count: 322\n",
      "Applied Power Type 3. Anomalous indices count: 217\n",
      "Applied Power Type 3. Anomalous indices count: 386\n",
      "Applied Power Type 3. Anomalous indices count: 330\n",
      "Applied Power Type 3. Anomalous indices count: 198\n",
      "Applied Power Type 3. Anomalous indices count: 180\n",
      "Applied Power Type 3. Anomalous indices count: 345\n",
      "Applied Power Type 3. Anomalous indices count: 178\n",
      "Applied Power Type 3. Anomalous indices count: 219\n",
      "Applied Power Type 3. Anomalous indices count: 226\n",
      "Applied Power Type 3. Anomalous indices count: 261\n",
      "Applied Power Type 3. Anomalous indices count: 239\n",
      "Applied Power Type 3. Anomalous indices count: 361\n",
      "Applied Power Type 3. Anomalous indices count: 333\n",
      "Applied Power Type 3. Anomalous indices count: 379\n",
      "Applied Power Type 3. Anomalous indices count: 175\n",
      "Applied Power Type 3. Anomalous indices count: 278\n",
      "Applied Power Type 3. Anomalous indices count: 347\n",
      "Applied Power Type 3. Anomalous indices count: 264\n",
      "Applied Power Type 3. Anomalous indices count: 311\n",
      "Applied Power Type 3. Anomalous indices count: 193\n",
      "Applied Power Type 3. Anomalous indices count: 219\n",
      "Applied Power Type 3. Anomalous indices count: 379\n",
      "Applied Power Type 3. Anomalous indices count: 255\n",
      "Applied Power Type 3. Anomalous indices count: 328\n",
      "Applied Power Type 3. Anomalous indices count: 270\n",
      "Applied Power Type 3. Anomalous indices count: 340\n",
      "Applied Power Type 3. Anomalous indices count: 213\n",
      "Applied Power Type 3. Anomalous indices count: 241\n",
      "Applied Power Type 3. Anomalous indices count: 307\n",
      "Applied Power Type 3. Anomalous indices count: 295\n",
      "Applied Power Type 3. Anomalous indices count: 237\n",
      "Applied Power Type 3. Anomalous indices count: 251\n",
      "Applied Power Type 3. Anomalous indices count: 387\n",
      "Applied Power Type 3. Anomalous indices count: 311\n",
      "Applied Power Type 3. Anomalous indices count: 343\n",
      "Applied Power Type 3. Anomalous indices count: 179\n",
      "Applied Power Type 3. Anomalous indices count: 292\n",
      "Applied Power Type 3. Anomalous indices count: 269\n",
      "Applied Power Type 3. Anomalous indices count: 297\n",
      "Applied Power Type 3. Anomalous indices count: 226\n",
      "Applied Power Type 3. Anomalous indices count: 183\n",
      "Applied Power Type 3. Anomalous indices count: 427\n",
      "Applied Power Type 3. Anomalous indices count: 252\n",
      "Applied Power Type 3. Anomalous indices count: 198\n",
      "Applied Power Type 3. Anomalous indices count: 314\n",
      "Applied Power Type 3. Anomalous indices count: 190\n",
      "Applied Power Type 3. Anomalous indices count: 223\n",
      "Applied Power Type 3. Anomalous indices count: 373\n",
      "Applied Power Type 3. Anomalous indices count: 306\n",
      "Applied Power Type 3. Anomalous indices count: 181\n",
      "Applied Power Type 3. Anomalous indices count: 392\n",
      "Applied Power Type 3. Anomalous indices count: 321\n",
      "Applied Power Type 3. Anomalous indices count: 192\n",
      "Applied Power Type 3. Anomalous indices count: 189\n",
      "Applied Power Type 3. Anomalous indices count: 212\n",
      "Applied Power Type 3. Anomalous indices count: 422\n",
      "Applied Power Type 3. Anomalous indices count: 189\n",
      "Applied Power Type 3. Anomalous indices count: 332\n",
      "Applied Power Type 3. Anomalous indices count: 176\n",
      "Applied Power Type 3. Anomalous indices count: 301\n",
      "Applied Power Type 3. Anomalous indices count: 325\n",
      "Applied Power Type 3. Anomalous indices count: 253\n",
      "Applied Power Type 3. Anomalous indices count: 213\n",
      "Applied Power Type 3. Anomalous indices count: 413\n",
      "Applied Power Type 3. Anomalous indices count: 424\n",
      "Applied Power Type 3. Anomalous indices count: 420\n",
      "Applied Power Type 3. Anomalous indices count: 172\n",
      "Applied Power Type 3. Anomalous indices count: 355\n",
      "Applied Power Type 3. Anomalous indices count: 391\n",
      "Applied Power Type 3. Anomalous indices count: 240\n",
      "Applied Power Type 3. Anomalous indices count: 186\n",
      "Applied Power Type 3. Anomalous indices count: 336\n",
      "Applied Power Type 3. Anomalous indices count: 397\n",
      "Applied Power Type 3. Anomalous indices count: 215\n",
      "Applied Power Type 3. Anomalous indices count: 203\n",
      "Applied Power Type 3. Anomalous indices count: 204\n",
      "Applied Power Type 3. Anomalous indices count: 237\n",
      "Applied Power Type 3. Anomalous indices count: 227\n",
      "Applied Power Type 3. Anomalous indices count: 315\n",
      "Applied Power Type 3. Anomalous indices count: 215\n",
      "Applied Power Type 3. Anomalous indices count: 314\n",
      "Applied Power Type 3. Anomalous indices count: 189\n",
      "Applied Power Type 3. Anomalous indices count: 206\n",
      "Applied Power Type 3. Anomalous indices count: 355\n",
      "Applied Power Type 3. Anomalous indices count: 295\n",
      "Applied Power Type 3. Anomalous indices count: 390\n",
      "Applied Power Type 3. Anomalous indices count: 197\n",
      "Applied Power Type 3. Anomalous indices count: 371\n",
      "Applied Power Type 3. Anomalous indices count: 202\n",
      "Applied Power Type 3. Anomalous indices count: 289\n",
      "Applied Power Type 3. Anomalous indices count: 439\n",
      "Applied Power Type 3. Anomalous indices count: 247\n",
      "Applied Power Type 3. Anomalous indices count: 256\n",
      "Applied Power Type 3. Anomalous indices count: 314\n",
      "Applied Power Type 3. Anomalous indices count: 346\n",
      "Applied Power Type 3. Anomalous indices count: 291\n",
      "Applied Power Type 3. Anomalous indices count: 248\n",
      "Applied Power Type 3. Anomalous indices count: 199\n"
     ]
    }
   ],
   "source": [
    "bids=[]\n",
    "orig_means=[]\n",
    "mod_means=[]\n",
    "all_nums=[]\n",
    "all_mins=[]\n",
    "all_maxs=[]\n",
    "total_anomalies=[]\n",
    "for bid in data_csv['building_id'].unique():\n",
    "    or_mean,m_mean,nu,mi,ma,al,mod_df=do_for_building(data_csv,bid)\n",
    "    mod_df.to_csv(f\"OUTPUT/MODIFIED/{bid}_modified.csv\",index=False)\n",
    "    bids.append(bid)\n",
    "    orig_means.append(or_mean)\n",
    "    mod_means.append(m_mean)\n",
    "    all_nums.append(nu)\n",
    "    all_mins.append(mi)\n",
    "    all_maxs.append(ma)\n",
    "    total_anomalies.append(al)\n",
    "    "
   ]
  },
  {
   "cell_type": "code",
   "execution_count": 31,
   "metadata": {
    "scrolled": true
   },
   "outputs": [
    {
     "name": "stdout",
     "output_type": "stream",
     "text": [
      "200\n"
     ]
    }
   ],
   "source": [
    "print(len(bids))"
   ]
  },
  {
   "cell_type": "code",
   "execution_count": 47,
   "metadata": {},
   "outputs": [],
   "source": [
    "stats_df=pd.DataFrame()\n",
    "stats_df['building_id']=bids\n",
    "stats_df['orginal_mean']=orig_means\n",
    "stats_df['modified_mean']=mod_means\n",
    "stats_df['anomalous_subsequeces']=all_nums\n",
    "stats_df['minimum_lengths']=all_mins\n",
    "stats_df['maximum_lengths']=all_maxs\n",
    "stats_df['total_anomalies']=total_anomalies"
   ]
  },
  {
   "cell_type": "code",
   "execution_count": 48,
   "metadata": {},
   "outputs": [
    {
     "data": {
      "text/html": [
       "<div>\n",
       "<style scoped>\n",
       "    .dataframe tbody tr th:only-of-type {\n",
       "        vertical-align: middle;\n",
       "    }\n",
       "\n",
       "    .dataframe tbody tr th {\n",
       "        vertical-align: top;\n",
       "    }\n",
       "\n",
       "    .dataframe thead th {\n",
       "        text-align: right;\n",
       "    }\n",
       "</style>\n",
       "<table border=\"1\" class=\"dataframe\">\n",
       "  <thead>\n",
       "    <tr style=\"text-align: right;\">\n",
       "      <th></th>\n",
       "      <th>building_id</th>\n",
       "      <th>orginal_mean</th>\n",
       "      <th>modified_mean</th>\n",
       "      <th>anomalous_subsequeces</th>\n",
       "      <th>minimum_lengths</th>\n",
       "      <th>maximum_lengths</th>\n",
       "      <th>total_anomalies</th>\n",
       "    </tr>\n",
       "  </thead>\n",
       "  <tbody>\n",
       "    <tr>\n",
       "      <th>0</th>\n",
       "      <td>1</td>\n",
       "      <td>35.348965</td>\n",
       "      <td>32.505515</td>\n",
       "      <td>343</td>\n",
       "      <td>1</td>\n",
       "      <td>1</td>\n",
       "      <td>1029</td>\n",
       "    </tr>\n",
       "    <tr>\n",
       "      <th>1</th>\n",
       "      <td>32</td>\n",
       "      <td>97.808259</td>\n",
       "      <td>89.052346</td>\n",
       "      <td>362</td>\n",
       "      <td>1</td>\n",
       "      <td>1</td>\n",
       "      <td>1086</td>\n",
       "    </tr>\n",
       "    <tr>\n",
       "      <th>2</th>\n",
       "      <td>41</td>\n",
       "      <td>61.177530</td>\n",
       "      <td>55.119578</td>\n",
       "      <td>408</td>\n",
       "      <td>1</td>\n",
       "      <td>1</td>\n",
       "      <td>1224</td>\n",
       "    </tr>\n",
       "    <tr>\n",
       "      <th>3</th>\n",
       "      <td>55</td>\n",
       "      <td>33.693479</td>\n",
       "      <td>31.286499</td>\n",
       "      <td>296</td>\n",
       "      <td>1</td>\n",
       "      <td>1</td>\n",
       "      <td>888</td>\n",
       "    </tr>\n",
       "    <tr>\n",
       "      <th>4</th>\n",
       "      <td>69</td>\n",
       "      <td>29.393432</td>\n",
       "      <td>26.299483</td>\n",
       "      <td>433</td>\n",
       "      <td>1</td>\n",
       "      <td>1</td>\n",
       "      <td>1299</td>\n",
       "    </tr>\n",
       "    <tr>\n",
       "      <th>...</th>\n",
       "      <td>...</td>\n",
       "      <td>...</td>\n",
       "      <td>...</td>\n",
       "      <td>...</td>\n",
       "      <td>...</td>\n",
       "      <td>...</td>\n",
       "      <td>...</td>\n",
       "    </tr>\n",
       "    <tr>\n",
       "      <th>195</th>\n",
       "      <td>1316</td>\n",
       "      <td>53.316940</td>\n",
       "      <td>49.312520</td>\n",
       "      <td>314</td>\n",
       "      <td>1</td>\n",
       "      <td>1</td>\n",
       "      <td>942</td>\n",
       "    </tr>\n",
       "    <tr>\n",
       "      <th>196</th>\n",
       "      <td>1318</td>\n",
       "      <td>161.258038</td>\n",
       "      <td>147.637373</td>\n",
       "      <td>346</td>\n",
       "      <td>1</td>\n",
       "      <td>1</td>\n",
       "      <td>1038</td>\n",
       "    </tr>\n",
       "    <tr>\n",
       "      <th>197</th>\n",
       "      <td>1319</td>\n",
       "      <td>136.074148</td>\n",
       "      <td>126.542217</td>\n",
       "      <td>291</td>\n",
       "      <td>1</td>\n",
       "      <td>1</td>\n",
       "      <td>873</td>\n",
       "    </tr>\n",
       "    <tr>\n",
       "      <th>198</th>\n",
       "      <td>1323</td>\n",
       "      <td>185.671790</td>\n",
       "      <td>174.326767</td>\n",
       "      <td>248</td>\n",
       "      <td>1</td>\n",
       "      <td>1</td>\n",
       "      <td>744</td>\n",
       "    </tr>\n",
       "    <tr>\n",
       "      <th>199</th>\n",
       "      <td>1353</td>\n",
       "      <td>7.003415</td>\n",
       "      <td>6.609484</td>\n",
       "      <td>199</td>\n",
       "      <td>1</td>\n",
       "      <td>1</td>\n",
       "      <td>597</td>\n",
       "    </tr>\n",
       "  </tbody>\n",
       "</table>\n",
       "<p>200 rows × 7 columns</p>\n",
       "</div>"
      ],
      "text/plain": [
       "     building_id  orginal_mean  modified_mean  anomalous_subsequeces  \\\n",
       "0              1     35.348965      32.505515                    343   \n",
       "1             32     97.808259      89.052346                    362   \n",
       "2             41     61.177530      55.119578                    408   \n",
       "3             55     33.693479      31.286499                    296   \n",
       "4             69     29.393432      26.299483                    433   \n",
       "..           ...           ...            ...                    ...   \n",
       "195         1316     53.316940      49.312520                    314   \n",
       "196         1318    161.258038     147.637373                    346   \n",
       "197         1319    136.074148     126.542217                    291   \n",
       "198         1323    185.671790     174.326767                    248   \n",
       "199         1353      7.003415       6.609484                    199   \n",
       "\n",
       "     minimum_lengths  maximum_lengths  total_anomalies  \n",
       "0                  1                1             1029  \n",
       "1                  1                1             1086  \n",
       "2                  1                1             1224  \n",
       "3                  1                1              888  \n",
       "4                  1                1             1299  \n",
       "..               ...              ...              ...  \n",
       "195                1                1              942  \n",
       "196                1                1             1038  \n",
       "197                1                1              873  \n",
       "198                1                1              744  \n",
       "199                1                1              597  \n",
       "\n",
       "[200 rows x 7 columns]"
      ]
     },
     "execution_count": 48,
     "metadata": {},
     "output_type": "execute_result"
    }
   ],
   "source": [
    "stats_df"
   ]
  },
  {
   "cell_type": "code",
   "execution_count": 34,
   "metadata": {},
   "outputs": [],
   "source": [
    "stats_df.to_csv(f\"OUTPUT/STATS/type_3_anomalies.csv\",index=False)"
   ]
  },
  {
   "cell_type": "code",
   "execution_count": 49,
   "metadata": {},
   "outputs": [],
   "source": [
    "imp_vals,labels_p=data_preprocess(sample_df)"
   ]
  },
  {
   "cell_type": "markdown",
   "metadata": {},
   "source": [
    "## Apply to actual readings"
   ]
  },
  {
   "cell_type": "code",
   "execution_count": 63,
   "metadata": {},
   "outputs": [],
   "source": [
    "power_hparams = SimpleNamespace(\n",
    "    seed=42,\n",
    "    type2=100, min_perc=2, max_perc=5, type2_softstart=True,\n",
    "    type3=2, type3_extreme=False, type3_r_min=0.6, type3_r_max=1.6, # Based on paper Table 3/4 'slight'\n",
    "    type4=4, type4_r_min=1, type4_r_max=2.0, # Based on paper Table 3/4 'slight'\n",
    ")"
   ]
  },
  {
   "cell_type": "code",
   "execution_count": null,
   "metadata": {
    "scrolled": true
   },
   "outputs": [
    {
     "name": "stdout",
     "output_type": "stream",
     "text": [
      "--- Generating Power Anomalies ---\n"
     ]
    },
    {
     "ename": "UnboundLocalError",
     "evalue": "local variable 'indices' referenced before assignment",
     "output_type": "error",
     "traceback": [
      "\u001b[0;31m---------------------------------------------------------------------------\u001b[0m",
      "\u001b[0;31mUnboundLocalError\u001b[0m                         Traceback (most recent call last)",
      "Cell \u001b[0;32mIn[65], line 2\u001b[0m\n\u001b[1;32m      1\u001b[0m \u001b[38;5;28mprint\u001b[39m(\u001b[38;5;124m\"\u001b[39m\u001b[38;5;124m--- Generating Power Anomalies ---\u001b[39m\u001b[38;5;124m\"\u001b[39m)\n\u001b[0;32m----> 2\u001b[0m original_p, labels_p, anomalous_p,indices,lengths\u001b[38;5;241m=\u001b[39m \u001b[43mcreate_power_anomalies_from_paper\u001b[49m\u001b[43m(\u001b[49m\u001b[43mimp_vals\u001b[49m\u001b[43m,\u001b[49m\u001b[43m \u001b[49m\u001b[38;5;28;43;01mNone\u001b[39;49;00m\u001b[43m,\u001b[49m\u001b[43m \u001b[49m\u001b[43mpower_hparams\u001b[49m\u001b[43m,\u001b[49m\u001b[43mapply_rules\u001b[49m\u001b[38;5;241;43m=\u001b[39;49m\u001b[43m[\u001b[49m\u001b[38;5;241;43m2\u001b[39;49m\u001b[43m]\u001b[49m\u001b[43m)\u001b[49m\n",
      "Cell \u001b[0;32mIn[51], line 34\u001b[0m, in \u001b[0;36mcreate_power_anomalies_from_paper\u001b[0;34m(p, e, hparams, apply_rules)\u001b[0m\n\u001b[1;32m     27\u001b[0m         p_modified, labels, existing_indices, indices, lengths \u001b[38;5;241m=\u001b[39m _generate_power_anomaly_type3(\n\u001b[1;32m     28\u001b[0m     p_modified, labels, p_original, count\u001b[38;5;241m=\u001b[39mhparams\u001b[38;5;241m.\u001b[39mtype2, label\u001b[38;5;241m=\u001b[39m\u001b[38;5;241m2\u001b[39m, seed\u001b[38;5;241m=\u001b[39mhparams\u001b[38;5;241m.\u001b[39mseed \u001b[38;5;241m+\u001b[39m \u001b[38;5;241m2\u001b[39m,\n\u001b[1;32m     29\u001b[0m     anomaly_params\u001b[38;5;241m=\u001b[39m{\u001b[38;5;124m'\u001b[39m\u001b[38;5;124msoftstart\u001b[39m\u001b[38;5;124m'\u001b[39m: \u001b[38;5;28mgetattr\u001b[39m(hparams, \u001b[38;5;124m'\u001b[39m\u001b[38;5;124mtype2_softstart\u001b[39m\u001b[38;5;124m'\u001b[39m, \u001b[38;5;28;01mFalse\u001b[39;00m)},\n\u001b[1;32m     30\u001b[0m     rng\u001b[38;5;241m=\u001b[39mmaster_rng, existing_indices\u001b[38;5;241m=\u001b[39mexisting_indices\n\u001b[1;32m     31\u001b[0m )\n\u001b[1;32m     32\u001b[0m         \u001b[38;5;28mprint\u001b[39m(\u001b[38;5;124mf\u001b[39m\u001b[38;5;124m\"\u001b[39m\u001b[38;5;124mApplied Power Type 3. Anomalous indices count: \u001b[39m\u001b[38;5;132;01m{\u001b[39;00m\u001b[38;5;28mlen\u001b[39m(existing_indices)\u001b[38;5;132;01m}\u001b[39;00m\u001b[38;5;124m\"\u001b[39m)\n\u001b[0;32m---> 34\u001b[0m     \u001b[38;5;28;01mreturn\u001b[39;00m p_original, labels, p_modified,\u001b[43mindices\u001b[49m,lengths\n",
      "\u001b[0;31mUnboundLocalError\u001b[0m: local variable 'indices' referenced before assignment"
     ]
    }
   ],
   "source": [
    "print(\"--- Generating Power Anomalies ---\")\n",
    "original_p, labels_p, anomalous_p, indices,lengths= create_power_anomalies_from_paper(imp_vals, None, power_hparams,apply_rules=[3])"
   ]
  },
  {
   "cell_type": "code",
   "execution_count": 21,
   "metadata": {},
   "outputs": [
    {
     "data": {
      "text/plain": [
       "(array([0, 2]), array([8359,  425]))"
      ]
     },
     "execution_count": 21,
     "metadata": {},
     "output_type": "execute_result"
    }
   ],
   "source": [
    "np.unique(labels_p,return_counts=True)"
   ]
  },
  {
   "cell_type": "code",
   "execution_count": 22,
   "metadata": {},
   "outputs": [
    {
     "name": "stdout",
     "output_type": "stream",
     "text": [
      "\n",
      "Power Data Shape: (8784,)\n",
      "Power Labels Shape: (8784,)\n",
      "Anomalous Power Shape: (8784,)\n",
      "Number of Power Anomalies (by label): (array([0, 2]), array([8359,  425]))\n"
     ]
    }
   ],
   "source": [
    "print(f\"\\nPower Data Shape: {original_p.shape}\")\n",
    "print(f\"Power Labels Shape: {labels_p.shape}\")\n",
    "print(f\"Anomalous Power Shape: {anomalous_p.shape}\")\n",
    "print(f\"Number of Power Anomalies (by label): {np.unique(labels_p, return_counts=True)}\")"
   ]
  },
  {
   "cell_type": "code",
   "execution_count": 23,
   "metadata": {},
   "outputs": [
    {
     "data": {
      "text/plain": [
       "(np.float64(647.782), np.float64(173.982))"
      ]
     },
     "execution_count": 23,
     "metadata": {},
     "output_type": "execute_result"
    }
   ],
   "source": [
    "np.max(original_p),np.min(original_p)"
   ]
  },
  {
   "cell_type": "code",
   "execution_count": 24,
   "metadata": {},
   "outputs": [
    {
     "data": {
      "text/plain": [
       "(np.float64(1879.3018772391206), np.float64(0.0))"
      ]
     },
     "execution_count": 24,
     "metadata": {},
     "output_type": "execute_result"
    }
   ],
   "source": [
    "np.max(anomalous_p),np.min(anomalous_p)"
   ]
  },
  {
   "cell_type": "code",
   "execution_count": 25,
   "metadata": {},
   "outputs": [],
   "source": [
    "all_ticks = sample_df['timestamp'].values"
   ]
  },
  {
   "cell_type": "code",
   "execution_count": 26,
   "metadata": {},
   "outputs": [
    {
     "data": {
      "text/html": [
       "<div>\n",
       "<style scoped>\n",
       "    .dataframe tbody tr th:only-of-type {\n",
       "        vertical-align: middle;\n",
       "    }\n",
       "\n",
       "    .dataframe tbody tr th {\n",
       "        vertical-align: top;\n",
       "    }\n",
       "\n",
       "    .dataframe thead th {\n",
       "        text-align: right;\n",
       "    }\n",
       "</style>\n",
       "<table border=\"1\" class=\"dataframe\">\n",
       "  <thead>\n",
       "    <tr style=\"text-align: right;\">\n",
       "      <th></th>\n",
       "      <th>timestamp</th>\n",
       "      <th>original</th>\n",
       "      <th>modified</th>\n",
       "      <th>labels</th>\n",
       "    </tr>\n",
       "  </thead>\n",
       "  <tbody>\n",
       "    <tr>\n",
       "      <th>0</th>\n",
       "      <td>2016-01-01 00:00:00</td>\n",
       "      <td>269.984</td>\n",
       "      <td>269.984</td>\n",
       "      <td>0</td>\n",
       "    </tr>\n",
       "    <tr>\n",
       "      <th>1</th>\n",
       "      <td>2016-01-01 01:00:00</td>\n",
       "      <td>270.834</td>\n",
       "      <td>270.834</td>\n",
       "      <td>0</td>\n",
       "    </tr>\n",
       "    <tr>\n",
       "      <th>2</th>\n",
       "      <td>2016-01-01 02:00:00</td>\n",
       "      <td>282.987</td>\n",
       "      <td>282.987</td>\n",
       "      <td>0</td>\n",
       "    </tr>\n",
       "    <tr>\n",
       "      <th>3</th>\n",
       "      <td>2016-01-01 03:00:00</td>\n",
       "      <td>287.950</td>\n",
       "      <td>287.950</td>\n",
       "      <td>0</td>\n",
       "    </tr>\n",
       "    <tr>\n",
       "      <th>4</th>\n",
       "      <td>2016-01-01 04:00:00</td>\n",
       "      <td>305.913</td>\n",
       "      <td>305.913</td>\n",
       "      <td>0</td>\n",
       "    </tr>\n",
       "    <tr>\n",
       "      <th>...</th>\n",
       "      <td>...</td>\n",
       "      <td>...</td>\n",
       "      <td>...</td>\n",
       "      <td>...</td>\n",
       "    </tr>\n",
       "    <tr>\n",
       "      <th>8779</th>\n",
       "      <td>2016-12-31 19:00:00</td>\n",
       "      <td>319.548</td>\n",
       "      <td>319.548</td>\n",
       "      <td>0</td>\n",
       "    </tr>\n",
       "    <tr>\n",
       "      <th>8780</th>\n",
       "      <td>2016-12-31 20:00:00</td>\n",
       "      <td>310.931</td>\n",
       "      <td>310.931</td>\n",
       "      <td>0</td>\n",
       "    </tr>\n",
       "    <tr>\n",
       "      <th>8781</th>\n",
       "      <td>2016-12-31 21:00:00</td>\n",
       "      <td>293.985</td>\n",
       "      <td>293.985</td>\n",
       "      <td>0</td>\n",
       "    </tr>\n",
       "    <tr>\n",
       "      <th>8782</th>\n",
       "      <td>2016-12-31 22:00:00</td>\n",
       "      <td>331.945</td>\n",
       "      <td>331.945</td>\n",
       "      <td>0</td>\n",
       "    </tr>\n",
       "    <tr>\n",
       "      <th>8783</th>\n",
       "      <td>2016-12-31 23:00:00</td>\n",
       "      <td>346.677</td>\n",
       "      <td>346.677</td>\n",
       "      <td>0</td>\n",
       "    </tr>\n",
       "  </tbody>\n",
       "</table>\n",
       "<p>8784 rows × 4 columns</p>\n",
       "</div>"
      ],
      "text/plain": [
       "                timestamp  original  modified  labels\n",
       "0     2016-01-01 00:00:00   269.984   269.984       0\n",
       "1     2016-01-01 01:00:00   270.834   270.834       0\n",
       "2     2016-01-01 02:00:00   282.987   282.987       0\n",
       "3     2016-01-01 03:00:00   287.950   287.950       0\n",
       "4     2016-01-01 04:00:00   305.913   305.913       0\n",
       "...                   ...       ...       ...     ...\n",
       "8779  2016-12-31 19:00:00   319.548   319.548       0\n",
       "8780  2016-12-31 20:00:00   310.931   310.931       0\n",
       "8781  2016-12-31 21:00:00   293.985   293.985       0\n",
       "8782  2016-12-31 22:00:00   331.945   331.945       0\n",
       "8783  2016-12-31 23:00:00   346.677   346.677       0\n",
       "\n",
       "[8784 rows x 4 columns]"
      ]
     },
     "execution_count": 26,
     "metadata": {},
     "output_type": "execute_result"
    }
   ],
   "source": [
    "# value_dict={'timestamp': all_ticks.flatten(),\n",
    "#             'original': original_p.flatten(),\n",
    "#             'modified': anomalous_p.flatten(),\n",
    "#            'labels': labels_p.flatten()}\n",
    "mod_df=pd.DataFrame()\n",
    "mod_df['timestamp']=all_ticks\n",
    "mod_df['original']=original_p\n",
    "mod_df['modified']=anomalous_p\n",
    "mod_df['labels']=labels_p\n",
    "mod_df"
   ]
  },
  {
   "cell_type": "code",
   "execution_count": 27,
   "metadata": {},
   "outputs": [
    {
     "data": {
      "text/html": [
       "<div>\n",
       "<style scoped>\n",
       "    .dataframe tbody tr th:only-of-type {\n",
       "        vertical-align: middle;\n",
       "    }\n",
       "\n",
       "    .dataframe tbody tr th {\n",
       "        vertical-align: top;\n",
       "    }\n",
       "\n",
       "    .dataframe thead th {\n",
       "        text-align: right;\n",
       "    }\n",
       "</style>\n",
       "<table border=\"1\" class=\"dataframe\">\n",
       "  <thead>\n",
       "    <tr style=\"text-align: right;\">\n",
       "      <th></th>\n",
       "      <th>timestamp</th>\n",
       "      <th>original</th>\n",
       "      <th>modified</th>\n",
       "      <th>labels</th>\n",
       "    </tr>\n",
       "  </thead>\n",
       "  <tbody>\n",
       "    <tr>\n",
       "      <th>155</th>\n",
       "      <td>2016-01-07 11:00:00</td>\n",
       "      <td>323.941</td>\n",
       "      <td>45.210418</td>\n",
       "      <td>2</td>\n",
       "    </tr>\n",
       "    <tr>\n",
       "      <th>156</th>\n",
       "      <td>2016-01-07 12:00:00</td>\n",
       "      <td>407.928</td>\n",
       "      <td>686.658582</td>\n",
       "      <td>2</td>\n",
       "    </tr>\n",
       "    <tr>\n",
       "      <th>170</th>\n",
       "      <td>2016-01-08 02:00:00</td>\n",
       "      <td>365.857</td>\n",
       "      <td>40.638180</td>\n",
       "      <td>2</td>\n",
       "    </tr>\n",
       "    <tr>\n",
       "      <th>171</th>\n",
       "      <td>2016-01-08 03:00:00</td>\n",
       "      <td>339.344</td>\n",
       "      <td>0.000000</td>\n",
       "      <td>2</td>\n",
       "    </tr>\n",
       "    <tr>\n",
       "      <th>172</th>\n",
       "      <td>2016-01-08 04:00:00</td>\n",
       "      <td>330.046</td>\n",
       "      <td>0.000000</td>\n",
       "      <td>2</td>\n",
       "    </tr>\n",
       "    <tr>\n",
       "      <th>...</th>\n",
       "      <td>...</td>\n",
       "      <td>...</td>\n",
       "      <td>...</td>\n",
       "      <td>...</td>\n",
       "    </tr>\n",
       "    <tr>\n",
       "      <th>8706</th>\n",
       "      <td>2016-12-28 18:00:00</td>\n",
       "      <td>359.764</td>\n",
       "      <td>1006.840083</td>\n",
       "      <td>2</td>\n",
       "    </tr>\n",
       "    <tr>\n",
       "      <th>8728</th>\n",
       "      <td>2016-12-29 16:00:00</td>\n",
       "      <td>360.043</td>\n",
       "      <td>149.014414</td>\n",
       "      <td>2</td>\n",
       "    </tr>\n",
       "    <tr>\n",
       "      <th>8729</th>\n",
       "      <td>2016-12-29 17:00:00</td>\n",
       "      <td>366.179</td>\n",
       "      <td>0.000000</td>\n",
       "      <td>2</td>\n",
       "    </tr>\n",
       "    <tr>\n",
       "      <th>8730</th>\n",
       "      <td>2016-12-29 18:00:00</td>\n",
       "      <td>384.016</td>\n",
       "      <td>0.000000</td>\n",
       "      <td>2</td>\n",
       "    </tr>\n",
       "    <tr>\n",
       "      <th>8731</th>\n",
       "      <td>2016-12-29 19:00:00</td>\n",
       "      <td>354.018</td>\n",
       "      <td>1315.241586</td>\n",
       "      <td>2</td>\n",
       "    </tr>\n",
       "  </tbody>\n",
       "</table>\n",
       "<p>425 rows × 4 columns</p>\n",
       "</div>"
      ],
      "text/plain": [
       "                timestamp  original     modified  labels\n",
       "155   2016-01-07 11:00:00   323.941    45.210418       2\n",
       "156   2016-01-07 12:00:00   407.928   686.658582       2\n",
       "170   2016-01-08 02:00:00   365.857    40.638180       2\n",
       "171   2016-01-08 03:00:00   339.344     0.000000       2\n",
       "172   2016-01-08 04:00:00   330.046     0.000000       2\n",
       "...                   ...       ...          ...     ...\n",
       "8706  2016-12-28 18:00:00   359.764  1006.840083       2\n",
       "8728  2016-12-29 16:00:00   360.043   149.014414       2\n",
       "8729  2016-12-29 17:00:00   366.179     0.000000       2\n",
       "8730  2016-12-29 18:00:00   384.016     0.000000       2\n",
       "8731  2016-12-29 19:00:00   354.018  1315.241586       2\n",
       "\n",
       "[425 rows x 4 columns]"
      ]
     },
     "execution_count": 27,
     "metadata": {},
     "output_type": "execute_result"
    }
   ],
   "source": [
    "mod_df[mod_df['labels']==2]"
   ]
  },
  {
   "cell_type": "code",
   "execution_count": 28,
   "metadata": {},
   "outputs": [
    {
     "name": "stdout",
     "output_type": "stream",
     "text": [
      "311.93116734972676 311.93116734972676 119 2 5\n"
     ]
    }
   ],
   "source": [
    "print(mod_df['original'].mean(),mod_df['modified'].mean(),len(indices),min(lengths),max(lengths))"
   ]
  },
  {
   "cell_type": "code",
   "execution_count": 29,
   "metadata": {},
   "outputs": [],
   "source": [
    "max_e=int(np.max(anomalous_p))"
   ]
  },
  {
   "cell_type": "code",
   "execution_count": 30,
   "metadata": {},
   "outputs": [],
   "source": [
    "all_ticks = sample_df['timestamp'].values"
   ]
  },
  {
   "cell_type": "code",
   "execution_count": 31,
   "metadata": {},
   "outputs": [
    {
     "name": "stdout",
     "output_type": "stream",
     "text": [
      "2262\n"
     ]
    }
   ],
   "source": [
    "SEQ_LEN=100\n",
    "START_INDEX=(3*30+3)*24+30\n",
    "print(START_INDEX)"
   ]
  },
  {
   "cell_type": "code",
   "execution_count": 32,
   "metadata": {},
   "outputs": [],
   "source": [
    "selected_all_ticks=all_ticks[START_INDEX:START_INDEX+SEQ_LEN]\n",
    "selected_original_p=original_p[START_INDEX:START_INDEX+SEQ_LEN]\n",
    "selected_anomalous_p=anomalous_p[START_INDEX:START_INDEX+SEQ_LEN]\n",
    "selected_labels_p=labels_p[START_INDEX:START_INDEX+SEQ_LEN]"
   ]
  },
  {
   "cell_type": "code",
   "execution_count": 33,
   "metadata": {},
   "outputs": [
    {
     "data": {
      "image/png": "[encoded data removed]",
      "text/plain": [
       "<Figure size 1500x1000 with 2 Axes>"
      ]
     },
     "metadata": {},
     "output_type": "display_data"
    }
   ],
   "source": [
    "\n",
    "fig, axs = plt.subplots(2,1,figsize=(15, 10), sharex=True)\n",
    "\n",
    "axs[0].plot(selected_all_ticks, selected_original_p, label='Original readings', alpha=0.7, zorder=1)\n",
    "axs[1].plot(selected_all_ticks, selected_anomalous_p, label='Anomalous readings', alpha=0.9, zorder=2)\n",
    "# Highlight anomalies\n",
    "_type=2\n",
    "selected_anomaly_indices_p = np.where(selected_labels_p == _type)[0]\n",
    "if len(selected_anomaly_indices_p) > 0:\n",
    "     axs[1].scatter(selected_all_ticks[selected_anomaly_indices_p], selected_anomalous_p[selected_anomaly_indices_p], color='red', s=20, label=f'Type {_type} Anomaly', zorder=3)\n",
    "axs[0].set_title('Power Time Series (Building Id=1314)')\n",
    "axs[0].set_xlabel(\"Time\")\n",
    "axs[0].set_ylabel(\"Energy Meter Readings (kWh)\")\n",
    "axs[0].grid(False)\n",
    "axs[1].set_title('Anomalous Power Time Series (Building Id=1314)')\n",
    "axs[1].set_xlabel(\"Time\")\n",
    "axs[1].set_ylabel(\"Energy Meter Readings (kWh)\")\n",
    "axs[1].grid(False)\n",
    "new_ticks=selected_all_ticks[::24]\n",
    "axs[0].set_ylim(0,max_e+50)\n",
    "axs[1].set_ylim(0,max_e+50)\n",
    "# axs.set_xticks(new_ticks,rotate=45)\n",
    "plt.xticks(new_ticks, rotation=45)\n",
    "axs[0].legend()\n",
    "axs[1].legend()\n",
    "plt.tight_layout()\n",
    "fig.savefig('type_3_anomaly.png')"
   ]
  },
  {
   "cell_type": "code",
   "execution_count": 34,
   "metadata": {},
   "outputs": [
    {
     "name": "stdout",
     "output_type": "stream",
     "text": [
      "3262\n"
     ]
    }
   ],
   "source": [
    "SEQ_LEN=100\n",
    "START_INDEX=(3*30+3)*24+30+1000\n",
    "print(START_INDEX)"
   ]
  },
  {
   "cell_type": "code",
   "execution_count": 35,
   "metadata": {},
   "outputs": [],
   "source": [
    "selected_all_ticks=all_ticks[START_INDEX:START_INDEX+SEQ_LEN]\n",
    "selected_original_p=original_p[START_INDEX:START_INDEX+SEQ_LEN]\n",
    "selected_anomalous_p=anomalous_p[START_INDEX:START_INDEX+SEQ_LEN]\n",
    "selected_labels_p=labels_p[START_INDEX:START_INDEX+SEQ_LEN]"
   ]
  },
  {
   "cell_type": "code",
   "execution_count": 36,
   "metadata": {},
   "outputs": [
    {
     "data": {
      "image/png": "[encoded data removed]",
      "text/plain": [
       "<Figure size 1500x1000 with 2 Axes>"
      ]
     },
     "metadata": {},
     "output_type": "display_data"
    }
   ],
   "source": [
    "\n",
    "fig, axs = plt.subplots(2,1,figsize=(15, 10), sharex=True)\n",
    "\n",
    "axs[0].plot(selected_all_ticks, selected_original_p, label='Original readings', alpha=0.7, zorder=1)\n",
    "axs[1].plot(selected_all_ticks, selected_anomalous_p, label='Anomalous readings', alpha=0.9, zorder=2)\n",
    "# Highlight anomalies\n",
    "_type=2\n",
    "selected_anomaly_indices_p = np.where(selected_labels_p == _type)[0]\n",
    "if len(selected_anomaly_indices_p) > 0:\n",
    "     axs[1].scatter(selected_all_ticks[selected_anomaly_indices_p], selected_anomalous_p[selected_anomaly_indices_p], color='red', s=20, label=f'Type {_type} Anomaly', zorder=3)\n",
    "axs[0].set_title('Power Time Series (Building Id=1314)')\n",
    "axs[0].set_xlabel(\"Time\")\n",
    "axs[0].set_ylabel(\"Energy Meter Readings (kWh)\")\n",
    "axs[0].grid(False)\n",
    "axs[1].set_title('Anomalous Power Time Series (Building Id=1314)')\n",
    "axs[1].set_xlabel(\"Time\")\n",
    "axs[1].set_ylabel(\"Energy Meter Readings (kWh)\")\n",
    "axs[1].grid(False)\n",
    "new_ticks=selected_all_ticks[::24]\n",
    "axs[0].set_ylim(0,max_e+50)\n",
    "axs[1].set_ylim(0,max_e+50)\n",
    "# axs.set_xticks(new_ticks,rotate=45)\n",
    "plt.xticks(new_ticks, rotation=45)\n",
    "axs[0].legend()\n",
    "axs[1].legend()\n",
    "plt.tight_layout()\n",
    "fig.savefig('type_3_anomaly.png')"
   ]
  },
  {
   "cell_type": "code",
   "execution_count": 37,
   "metadata": {},
   "outputs": [
    {
     "name": "stdout",
     "output_type": "stream",
     "text": [
      "425\n"
     ]
    }
   ],
   "source": [
    "anom=(labels_p!=0).sum()\n",
    "print(anom)"
   ]
  },
  {
   "cell_type": "code",
   "execution_count": 38,
   "metadata": {},
   "outputs": [],
   "source": [
    "total_labels=len(labels_p)"
   ]
  },
  {
   "cell_type": "code",
   "execution_count": 39,
   "metadata": {},
   "outputs": [
    {
     "name": "stdout",
     "output_type": "stream",
     "text": [
      "8784\n"
     ]
    }
   ],
   "source": [
    "print(total_labels)"
   ]
  },
  {
   "cell_type": "code",
   "execution_count": 40,
   "metadata": {},
   "outputs": [
    {
     "name": "stdout",
     "output_type": "stream",
     "text": [
      "Percentage of anomalies: 4.84%\n"
     ]
    }
   ],
   "source": [
    "print(f\"Percentage of anomalies: {anom/total_labels*100:.2f}%\")"
   ]
  },
  {
   "cell_type": "markdown",
   "metadata": {},
   "source": [
    "## Fraudlent Injection Data"
   ]
  },
  {
   "cell_type": "code",
   "execution_count": 41,
   "metadata": {},
   "outputs": [],
   "source": [
    "def get_beta_value(E, t):\n",
    "    \"\"\"Returns a sample beta value, assumed < 1 for attacks.\"\"\"\n",
    "    return 0.5 "
   ]
  },
  {
   "cell_type": "code",
   "execution_count": 42,
   "metadata": {},
   "outputs": [],
   "source": [
    "\n",
    "def partial_reduction_constant(U_E_t, alpha):\n",
    "    if not (0 <= alpha < 1):\n",
    "        raise ValueError(\"alpha must be less than 1 (and typically non-negative).\")\n",
    "    return alpha * U_E_t"
   ]
  },
  {
   "cell_type": "code",
   "execution_count": 43,
   "metadata": {},
   "outputs": [],
   "source": [
    "\n",
    "def partial_reduction_variable(U_E_t, beta_val):\n",
    "    if not (0 <= beta_val < 1):\n",
    "        raise ValueError(\"beta_val (representing β(E,t)) must be less than 1 (and typically non-negative).\")\n",
    "    return beta_val * U_E_t\n"
   ]
  },
  {
   "cell_type": "code",
   "execution_count": 44,
   "metadata": {},
   "outputs": [],
   "source": [
    "def selective_bypass(U_E_t, current_t, t_x, t_x_plus_n):\n",
    "    if t_x <= current_t < t_x_plus_n:\n",
    "        return 0.0\n",
    "    else:\n",
    "        return U_E_t\n"
   ]
  },
  {
   "cell_type": "code",
   "execution_count": 45,
   "metadata": {},
   "outputs": [],
   "source": [
    "def price_base_control_fixed_constant(E_n):\n",
    "    return E_n\n"
   ]
  },
  {
   "cell_type": "code",
   "execution_count": 46,
   "metadata": {},
   "outputs": [],
   "source": [
    "def price_base_control_dynamic_variable(U_E_t, beta_val):\n",
    "    if not (0 <= beta_val < 1):\n",
    "        raise ValueError(\"beta_val (representing β(E,t)) must be a fraction < 1 (and typically non-negative).\")\n",
    "    return beta_val * U_E_t\n"
   ]
  },
  {
   "cell_type": "code",
   "execution_count": 47,
   "metadata": {},
   "outputs": [],
   "source": [
    "def price_base_control_shifted_reporting(data_series, current_time_index, T):\n",
    "    shifted_index = current_time_index - T\n",
    "    if 0 <= shifted_index < len(data_series):\n",
    "        return data_series[shifted_index]\n",
    "    else:\n",
    "        # Returns np.nan if the shifted index is out of bounds\n",
    "        return np.nan"
   ]
  },
  {
   "cell_type": "code",
   "execution_count": 48,
   "metadata": {},
   "outputs": [],
   "source": [
    "def price_base_control_swapping_extremes_frame(energy_frame):\n",
    "    if not energy_frame or len(energy_frame) < 2:\n",
    "        return list(energy_frame)\n",
    "\n",
    "    frame_array = np.array(energy_frame)\n",
    "    min_val, max_val = np.min(frame_array), np.max(frame_array)\n",
    "\n",
    "    if min_val == max_val:\n",
    "        return list(energy_frame)\n",
    "\n",
    "    new_frame = frame_array.copy()\n",
    "    min_indices, max_indices = np.where(frame_array == min_val)[0], np.where(frame_array == max_val)[0]\n",
    "\n",
    "    for idx in min_indices: new_frame[idx] = max_val\n",
    "    for idx in max_indices: new_frame[idx] = min_val\n",
    "        \n",
    "    return list(new_frame)"
   ]
  },
  {
   "cell_type": "code",
   "execution_count": 49,
   "metadata": {},
   "outputs": [
    {
     "ename": "NameError",
     "evalue": "name 'new_df' is not defined",
     "output_type": "error",
     "traceback": [
      "\u001b[0;31m---------------------------------------------------------------------------\u001b[0m",
      "\u001b[0;31mNameError\u001b[0m                                 Traceback (most recent call last)",
      "Cell \u001b[0;32mIn[49], line 1\u001b[0m\n\u001b[0;32m----> 1\u001b[0m df_original\u001b[38;5;241m=\u001b[39m\u001b[43mnew_df\u001b[49m[\u001b[38;5;124m'\u001b[39m\u001b[38;5;124moriginal\u001b[39m\u001b[38;5;124m'\u001b[39m]\u001b[38;5;241m.\u001b[39mcopy()\n",
      "\u001b[0;31mNameError\u001b[0m: name 'new_df' is not defined"
     ]
    }
   ],
   "source": [
    "df_original=new_df['original'].copy()"
   ]
  },
  {
   "cell_type": "code",
   "execution_count": null,
   "metadata": {},
   "outputs": [],
   "source": [
    "df_original=pd.DataFrame(df_original)"
   ]
  },
  {
   "cell_type": "code",
   "execution_count": null,
   "metadata": {},
   "outputs": [],
   "source": [
    "rng_global = np.random.default_rng(seed=42)\n",
    "num_anomalies_to_generate = 3\n",
    "anomaly_length_params = {'distribution': 'uniform', 'min': 5, 'max': 10}"
   ]
  },
  {
   "cell_type": "code",
   "execution_count": null,
   "metadata": {},
   "outputs": [],
   "source": [
    "attacked_dfs=pd.DataFrame()"
   ]
  },
  {
   "cell_type": "code",
   "execution_count": null,
   "metadata": {},
   "outputs": [],
   "source": [
    "# Attack f1: Partial Reduction Constant\n",
    "df_attacked_f1 = df_original.copy()\n",
    "alpha_f1 = 0.5 # Constant reduction factor\n",
    "anomaly_starts_f1, anomaly_lengths_f1 = _generate_anomaly_indices_and_lengths(\n",
    "    rng_global, len(df_attacked_f1), num_anomalies_to_generate, anomaly_length_params, set()\n",
    ")\n",
    "print(f\"Applying f1: {len(anomaly_starts_f1)} segments. Starts: {anomaly_starts_f1}, Lengths: {anomaly_lengths_f1}\")\n",
    "for start, length in zip(anomaly_starts_f1, anomaly_lengths_f1):\n",
    "    for i in range(start, start + length):\n",
    "        if i < len(df_attacked_f1):\n",
    "            df_attacked_f1.loc[df_attacked_f1.index[i], 'original'] = partial_reduction_constant(\n",
    "                df_attacked_f1.loc[df_attacked_f1.index[i], 'original'], alpha_f1\n",
    "            )\n",
    "attacked_dfs['partial_reduction_constant'] = df_attacked_f1"
   ]
  },
  {
   "cell_type": "code",
   "execution_count": null,
   "metadata": {},
   "outputs": [],
   "source": [
    "# Attack f2: Partial Reduction Variable\n",
    "df_attacked_f2 = df_original.copy()\n",
    "anomaly_starts_f2, anomaly_lengths_f2 = _generate_anomaly_indices_and_lengths(\n",
    "    rng_global, len(df_attacked_f2), num_anomalies_to_generate, anomaly_length_params, set()\n",
    ")\n",
    "print(f\"Applying f2: {len(anomaly_starts_f2)} segments. Starts: {anomaly_starts_f2}, Lengths: {anomaly_lengths_f2}\")\n",
    "for start, length in zip(anomaly_starts_f2, anomaly_lengths_f2):\n",
    "    beta_val_segment_f2 = rng_global.uniform(0.2, 0.7) # Variable beta for this segment\n",
    "    for i in range(start, start + length):\n",
    "        if i < len(df_attacked_f2):\n",
    "            df_attacked_f2.loc[df_attacked_f2.index[i], 'original'] = partial_reduction_variable(\n",
    "                df_attacked_f2.loc[df_attacked_f2.index[i], 'original'], beta_val_segment_f2\n",
    "            )\n",
    "attacked_dfs['partial_reduction_variable'] = df_attacked_f2\n"
   ]
  },
  {
   "cell_type": "code",
   "execution_count": null,
   "metadata": {},
   "outputs": [],
   "source": [
    "# Attack f3: Selective Bypass\n",
    "df_attacked_f3 = df_original.copy()\n",
    "anomaly_starts_f3, anomaly_lengths_f3 = _generate_anomaly_indices_and_lengths(\n",
    "    rng_global, len(df_attacked_f3), num_anomalies_to_generate, anomaly_length_params, set()\n",
    ")\n",
    "print(f\"Applying f3: {len(anomaly_starts_f3)} segments. Starts: {anomaly_starts_f3}, Lengths: {anomaly_lengths_f3}\")\n",
    "for start, length in zip(anomaly_starts_f3, anomaly_lengths_f3):\n",
    "    t_x = start # Start index of bypass\n",
    "    t_x_plus_n = start + length # End index (exclusive) of bypass\n",
    "    for i in range(start, start + length): # Iterate through current_t values in the segment\n",
    "        if i < len(df_attacked_f3):\n",
    "            df_attacked_f3.loc[df_attacked_f3.index[i], 'original'] = selective_bypass(\n",
    "                df_attacked_f3.loc[df_attacked_f3.index[i], 'original'], \n",
    "                current_t=i, t_x=t_x, t_x_plus_n=t_x_plus_n \n",
    "            ) \n",
    "attacked_dfs['selective_bypass'] = df_attacked_f3"
   ]
  },
  {
   "cell_type": "code",
   "execution_count": null,
   "metadata": {},
   "outputs": [],
   "source": [
    "# Attack f4: Price Base Control Fixed Constant\n",
    "df_attacked_f4 = df_original.copy()\n",
    "E_n_f4 = df_original['original'].mean() / 2.0 \n",
    "anomaly_starts_f4, anomaly_lengths_f4 = _generate_anomaly_indices_and_lengths(\n",
    "    rng_global, len(df_attacked_f4), num_anomalies_to_generate, anomaly_length_params, set()\n",
    ")\n",
    "print(f\"Applying f4: {len(anomaly_starts_f4)} segments. Starts: {anomaly_starts_f4}, Lengths: {anomaly_lengths_f4}\")\n",
    "for start, length in zip(anomaly_starts_f4, anomaly_lengths_f4):\n",
    "    for i in range(start, start + length):\n",
    "        if i < len(df_attacked_f4):\n",
    "            df_attacked_f4.loc[df_attacked_f4.index[i], 'original'] = price_base_control_fixed_constant(E_n_f4)\n",
    "attacked_dfs['price_base_control_fixed_constant'] = df_attacked_f4"
   ]
  },
  {
   "cell_type": "code",
   "execution_count": null,
   "metadata": {},
   "outputs": [],
   "source": [
    "# Attack f5: Price Base Control Dynamic Variable\n",
    "df_attacked_f5 = df_original.copy()\n",
    "anomaly_starts_f5, anomaly_lengths_f5 = _generate_anomaly_indices_and_lengths(\n",
    "    rng_global, len(df_attacked_f5), num_anomalies_to_generate, anomaly_length_params, set()\n",
    ")\n",
    "print(f\"Applying f5: {len(anomaly_starts_f5)} segments. Starts: {anomaly_starts_f5}, Lengths: {anomaly_lengths_f5}\")\n",
    "for start, length in zip(anomaly_starts_f5, anomaly_lengths_f5):\n",
    "    beta_val_segment_f5 = rng_global.uniform(0.3, 0.8) # Variable beta for this segment\n",
    "    for i in range(start, start + length):\n",
    "        if i < len(df_attacked_f5):\n",
    "            df_attacked_f5.loc[df_attacked_f5.index[i], 'original'] = price_base_control_dynamic_variable(\n",
    "                df_attacked_f5.loc[df_attacked_f5.index[i], 'original'], beta_val_segment_f5\n",
    "            )\n",
    "attacked_dfs['price_base_control_dynamic_variable'] = df_attacked_f5"
   ]
  },
  {
   "cell_type": "code",
   "execution_count": null,
   "metadata": {},
   "outputs": [],
   "source": [
    "# Attack f6: Price Base Control Shifted Reporting\n",
    "df_attacked_f6 = df_original.copy()\n",
    "T_shift_f6 = 2# Shift by 2 periods\n",
    "original_series_for_f6 = df_original['original'].values \n",
    "anomaly_starts_f6, anomaly_lengths_f6 = _generate_anomaly_indices_and_lengths(\n",
    "    rng_global, len(df_attacked_f6), num_anomalies_to_generate, anomaly_length_params, set()\n",
    ")\n",
    "print(f\"Applying f6: {len(anomaly_starts_f6)} segments. Starts: {anomaly_starts_f6}, Lengths: {anomaly_lengths_f6}\")\n",
    "for start, length in zip(anomaly_starts_f6, anomaly_lengths_f6):\n",
    "    for i in range(start, start + length): # i is current_time_index\n",
    "        if i < len(df_attacked_f6):\n",
    "            shifted_value = price_base_control_shifted_reporting(\n",
    "                original_series_for_f6, i, T_shift_f6\n",
    "            )\n",
    "            if not pd.isna(shifted_value):\n",
    "                df_attacked_f6.loc[df_attacked_f6.index[i], 'original'] = shifted_value\n",
    "attacked_dfs['price_base_control_shifted_reporting'] = df_attacked_f6"
   ]
  },
  {
   "cell_type": "code",
   "execution_count": null,
   "metadata": {},
   "outputs": [],
   "source": [
    "# Attack f7: Price Base Control Swapping Extremes Frame\n",
    "df_attacked_f7 = df_original.copy()\n",
    "anomaly_starts_f7, anomaly_lengths_f7 = _generate_anomaly_indices_and_lengths(\n",
    "    rng_global, len(df_attacked_f7), num_anomalies_to_generate, anomaly_length_params, set()\n",
    ")\n",
    "print(f\"Applying f7: {len(anomaly_starts_f7)} segments. Starts: {anomaly_starts_f7}, Lengths: {anomaly_lengths_f7}\")\n",
    "for start, length in zip(anomaly_starts_f7, anomaly_lengths_f7):\n",
    "    if length < 2: # Swapping needs at least 2 elements\n",
    "        continue\n",
    "    segment_indices = df_attacked_f7.index[start : start + length]\n",
    "    current_frame_values = df_attacked_f7.loc[segment_indices, 'original'].tolist()\n",
    "    \n",
    "    swapped_frame_values = price_base_control_swapping_extremes_frame(current_frame_values)\n",
    "    \n",
    "    df_attacked_f7.loc[segment_indices, 'original'] = swapped_frame_values\n",
    "attacked_dfs['price_base_control_swapping_extremes_frame'] = df_attacked_f7"
   ]
  },
  {
   "cell_type": "code",
   "execution_count": null,
   "metadata": {},
   "outputs": [],
   "source": [
    "attacked_dfs"
   ]
  },
  {
   "cell_type": "code",
   "execution_count": null,
   "metadata": {},
   "outputs": [],
   "source": []
  }
 ],
 "metadata": {
  "kaggle": {
   "accelerator": "none",
   "dataSources": [
    {
     "datasetId": 5854337,
     "sourceId": 9597044,
     "sourceType": "datasetVersion"
    }
   ],
   "dockerImageVersionId": 31012,
   "isGpuEnabled": false,
   "isInternetEnabled": true,
   "language": "python",
   "sourceType": "notebook"
  },
  "kernelspec": {
   "display_name": "decision-transformer-gym-py39",
   "language": "python",
   "name": "python3"
  },
  "language_info": {
   "codemirror_mode": {
    "name": "ipython",
    "version": 3
   },
   "file_extension": ".py",
   "mimetype": "text/x-python",
   "name": "python",
   "nbconvert_exporter": "python",
   "pygments_lexer": "ipython3",
   "version": "3.9.21"
  }
 },
 "nbformat": 4,
 "nbformat_minor": 4
}
